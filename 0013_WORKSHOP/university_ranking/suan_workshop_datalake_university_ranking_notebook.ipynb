{
	"metadata": {
		"kernelspec": {
			"name": "glue_pyspark",
			"display_name": "Glue PySpark",
			"language": "python"
		},
		"language_info": {
			"name": "Python_Glue_Session",
			"mimetype": "text/x-python",
			"codemirror_mode": {
				"name": "python",
				"version": 3
			},
			"pygments_lexer": "python3",
			"file_extension": ".py"
		}
	},
	"nbformat_minor": 4,
	"nbformat": 4,
	"cells": [
		{
			"cell_type": "markdown",
			"source": "# AWS Glue Studio Notebook (University Ranking Notebook)\n##### You are now running a AWS Glue Studio notebook; To start using your notebook you need to start an AWS Glue Interactive Session.\n",
			"metadata": {
				"editable": true,
				"trusted": true
			}
		},
		{
			"cell_type": "markdown",
			"source": "#### Optional: Run this cell to see available notebook commands (\"magics\").\n",
			"metadata": {
				"editable": true,
				"trusted": true
			}
		},
		{
			"cell_type": "code",
			"source": "%help",
			"metadata": {
				"trusted": true,
				"editable": true
			},
			"execution_count": null,
			"outputs": []
		},
		{
			"cell_type": "markdown",
			"source": "####  Run this cell to set up and start your interactive session.\n",
			"metadata": {
				"editable": true,
				"trusted": true
			}
		},
		{
			"cell_type": "code",
			"source": "%idle_timeout 2880\n%glue_version 4.0\n%worker_type G.1X\n%number_of_workers 5\n\nimport sys\nfrom awsglue.transforms import *\nfrom awsglue.utils import getResolvedOptions\nfrom pyspark.context import SparkContext\nfrom awsglue.context import GlueContext\nfrom awsglue.job import Job\nfrom awsglue.dynamicframe import DynamicFrame\n  \nsc = SparkContext.getOrCreate()\nglueContext = GlueContext(sc)\nspark = glueContext.spark_session\njob = Job(glueContext)",
			"metadata": {
				"trusted": true,
				"editable": true
			},
			"execution_count": 18,
			"outputs": [
				{
					"name": "stderr",
					"text": "You are already connected to a glueetl session c77b9645-85e5-4e14-aeb5-1ad2cd4eddaf.\n\nNo change will be made to the current session that is set as glueetl. The session configuration change will apply to newly created sessions.\n",
					"output_type": "stream"
				},
				{
					"name": "stdout",
					"text": "Current idle_timeout is 2880 minutes.\nidle_timeout has been set to 2880 minutes.\n",
					"output_type": "stream"
				},
				{
					"name": "stderr",
					"text": "You are already connected to a glueetl session c77b9645-85e5-4e14-aeb5-1ad2cd4eddaf.\n\nNo change will be made to the current session that is set as glueetl. The session configuration change will apply to newly created sessions.\n",
					"output_type": "stream"
				},
				{
					"name": "stdout",
					"text": "Setting Glue version to: 4.0\n",
					"output_type": "stream"
				},
				{
					"name": "stderr",
					"text": "You are already connected to a glueetl session c77b9645-85e5-4e14-aeb5-1ad2cd4eddaf.\n\nNo change will be made to the current session that is set as glueetl. The session configuration change will apply to newly created sessions.\n",
					"output_type": "stream"
				},
				{
					"name": "stdout",
					"text": "Previous worker type: G.1X\nSetting new worker type to: G.1X\n",
					"output_type": "stream"
				},
				{
					"name": "stderr",
					"text": "You are already connected to a glueetl session c77b9645-85e5-4e14-aeb5-1ad2cd4eddaf.\n\nNo change will be made to the current session that is set as glueetl. The session configuration change will apply to newly created sessions.\n",
					"output_type": "stream"
				},
				{
					"name": "stdout",
					"text": "Previous number of workers: 5\nSetting new number of workers to: 5\n\n",
					"output_type": "stream"
				}
			]
		},
		{
			"cell_type": "markdown",
			"source": "#### Example: Create a DynamicFrame from a table in the AWS Glue Data Catalog and display its schema\n",
			"metadata": {
				"editable": true,
				"trusted": true
			}
		},
		{
			"cell_type": "code",
			"source": "dyf = glueContext.create_dynamic_frame.from_catalog(database='suan_workshop_datalake_robin_ranking_universities_db', table_name='university_ranking_csv_all_strings')\ndyf.printSchema()",
			"metadata": {
				"trusted": true,
				"editable": true
			},
			"execution_count": 4,
			"outputs": [
				{
					"name": "stdout",
					"text": "root\n|-- university: string\n|-- year: string\n|-- rank_display: string\n|-- score: string\n|-- link: string\n|-- country: string\n|-- city: string\n|-- region: string\n|-- logo: string\n|-- type: string\n|-- research_output: string\n|-- student_faculty_ratio: string\n|-- international_students: string\n|-- size: string\n|-- faculty_count: string\n",
					"output_type": "stream"
				}
			]
		},
		{
			"cell_type": "markdown",
			"source": "#### Example: Convert the DynamicFrame to a Spark DataFrame and display a sample of the data\n",
			"metadata": {
				"editable": true,
				"trusted": true
			}
		},
		{
			"cell_type": "code",
			"source": "rankings_df = dyf.toDF()\n# df.show()\nrankings_df.show(5)",
			"metadata": {
				"tags": [],
				"editable": true,
				"trusted": true
			},
			"execution_count": 4,
			"outputs": [
				{
					"name": "stdout",
					"text": "+--------------------+----+------------+-----+--------------------+--------------+---------+-------------+--------------------+-------+---------------+---------------------+----------------------+----+-------------+\n|          university|year|rank_display|score|                link|       country|     city|       region|                logo|   type|research_output|student_faculty_ratio|international_students|size|faculty_count|\n+--------------------+----+------------+-----+--------------------+--------------+---------+-------------+--------------------+-------+---------------+---------------------+----------------------+----+-------------+\n|Massachusetts Ins...|2017|           1|  100|https://www.topun...| United States|Cambridge|North America|https://www.topun...|Private|      Very High|                    4|                 3,730|   M|        3,065|\n| Stanford University|2017|           2| 98.7|https://www.topun...| United States| Stanford|North America|https://www.topun...|Private|      Very High|                    3|                 3,879|   L|        4,725|\n|  Harvard University|2017|           3| 98.3|https://www.topun...| United States|Cambridge|North America|https://www.topun...|Private|      Very High|                    5|                 5,877|   L|        4,646|\n|University of Cam...|2017|           4| 97.2|https://www.topun...|United Kingdom|Cambridge|       Europe|https://www.topun...| Public|      Very high|                    4|                 7,925|   L|        5,800|\n|California Instit...|2017|           5| 96.9|https://www.topun...| United States| Pasadena|North America|https://www.topun...|Private|      Very High|                    2|                   692|   S|          968|\n+--------------------+----+------------+-----+--------------------+--------------+---------+-------------+--------------------+-------+---------------+---------------------+----------------------+----+-------------+\nonly showing top 5 rows\n\n/opt/amazon/spark/python/lib/pyspark.zip/pyspark/sql/dataframe.py:127: UserWarning: DataFrame constructor is internal. Do not directly use it.\n",
					"output_type": "stream"
				}
			]
		},
		{
			"cell_type": "markdown",
			"source": "# Create or replace view for Querying",
			"metadata": {}
		},
		{
			"cell_type": "code",
			"source": "rankings_df.createOrReplaceTempView(\"university_ranking\") ",
			"metadata": {
				"tags": []
			},
			"execution_count": null,
			"outputs": []
		},
		{
			"cell_type": "markdown",
			"source": "# First: SIMPLE",
			"metadata": {}
		},
		{
			"cell_type": "code",
			"source": "spark.sql(\"\"\"SELECT university,year,rank_display,region,country FROM university_ranking\"\"\").show(5)",
			"metadata": {
				"trusted": true,
				"tags": []
			},
			"execution_count": 7,
			"outputs": [
				{
					"name": "stdout",
					"text": "+--------------------+----+------------+-------------+--------------+\n|          university|year|rank_display|       region|       country|\n+--------------------+----+------------+-------------+--------------+\n|Massachusetts Ins...|2017|           1|North America| United States|\n| Stanford University|2017|           2|North America| United States|\n|  Harvard University|2017|           3|North America| United States|\n|University of Cam...|2017|           4|       Europe|United Kingdom|\n|California Instit...|2017|           5|North America| United States|\n+--------------------+----+------------+-------------+--------------+\nonly showing top 5 rows\n",
					"output_type": "stream"
				}
			]
		},
		{
			"cell_type": "markdown",
			"source": "# Query: RANKS",
			"metadata": {}
		},
		{
			"cell_type": "code",
			"source": "spark.sql(\"\"\"SELECT university,year,rank_display, int(rank_display) as n_rank,region,country \nFROM university_ranking\"\"\").show(5)",
			"metadata": {
				"trusted": true,
				"tags": []
			},
			"execution_count": 8,
			"outputs": [
				{
					"name": "stdout",
					"text": "+--------------------+----+------------+------+-------------+--------------+\n|          university|year|rank_display|n_rank|       region|       country|\n+--------------------+----+------------+------+-------------+--------------+\n|Massachusetts Ins...|2017|           1|     1|North America| United States|\n| Stanford University|2017|           2|     2|North America| United States|\n|  Harvard University|2017|           3|     3|North America| United States|\n|University of Cam...|2017|           4|     4|       Europe|United Kingdom|\n|California Instit...|2017|           5|     5|North America| United States|\n+--------------------+----+------------+------+-------------+--------------+\nonly showing top 5 rows\n",
					"output_type": "stream"
				}
			]
		},
		{
			"cell_type": "markdown",
			"source": "# Query: SPLIT the rank_display data and get the first value",
			"metadata": {}
		},
		{
			"cell_type": "code",
			"source": "spark.sql(\"\"\"SELECT university,year,rank_display, int(split(rank_display,'-')[0]) as n_rank,region,country \nFROM university_ranking\nWHERE rank_display like '%-%'\"\"\").show(5)",
			"metadata": {
				"trusted": true,
				"tags": []
			},
			"execution_count": 9,
			"outputs": [
				{
					"name": "stdout",
					"text": "+--------------------+----+------------+------+-------------+--------------------+\n|          university|year|rank_display|n_rank|       region|             country|\n+--------------------+----+------------+------+-------------+--------------------+\n|Bandung Institute...|2017|     401-410|   401|         Asia|           Indonesia|\n| Brandeis University|2017|     401-410|   401|North America|       United States|\n|Illinois Institut...|2017|     401-410|   401|North America|       United States|\n|Johannes Gutenber...|2017|     401-410|   401|       Europe|             Germany|\n|Khalifa Universit...|2017|     401-410|   401|         Asia|United Arab Emirates|\n+--------------------+----+------------+------+-------------+--------------------+\nonly showing top 5 rows\n",
					"output_type": "stream"
				}
			]
		},
		{
			"cell_type": "markdown",
			"source": "# Query: Complete",
			"metadata": {}
		},
		{
			"cell_type": "code",
			"source": "spark.sql(\"\"\"SELECT \n    university,\n    coalesce(int(year),9999) as year,\n    rank_display,\n    coalesce(int(split(rank_display,'-')[0]),9999) as n_rank,\n    coalesce(float(score),-1) as score,\n    country, city, region, type,\n    research_output,\n    coalesce(float(student_faculty_ratio),-1) as student_faculty_ratio,\n    coalesce(int(regexp_replace(international_students,'[.,]','')),-1) as international_students,\n    size,\n    coalesce(int(regexp_replace(faculty_count,'[.,]','')),-1) as faculty_count\n    FROM university_ranking\"\"\").show(5)",
			"metadata": {
				"trusted": true,
				"tags": []
			},
			"execution_count": 10,
			"outputs": [
				{
					"name": "stdout",
					"text": "+--------------------+----+------------+------+-----+--------------+---------+-------------+-------+---------------+---------------------+----------------------+----+-------------+\n|          university|year|rank_display|n_rank|score|       country|     city|       region|   type|research_output|student_faculty_ratio|international_students|size|faculty_count|\n+--------------------+----+------------+------+-----+--------------+---------+-------------+-------+---------------+---------------------+----------------------+----+-------------+\n|Massachusetts Ins...|2017|           1|     1|100.0| United States|Cambridge|North America|Private|      Very High|                  4.0|                  3730|   M|         3065|\n| Stanford University|2017|           2|     2| 98.7| United States| Stanford|North America|Private|      Very High|                  3.0|                  3879|   L|         4725|\n|  Harvard University|2017|           3|     3| 98.3| United States|Cambridge|North America|Private|      Very High|                  5.0|                  5877|   L|         4646|\n|University of Cam...|2017|           4|     4| 97.2|United Kingdom|Cambridge|       Europe| Public|      Very high|                  4.0|                  7925|   L|         5800|\n|California Instit...|2017|           5|     5| 96.9| United States| Pasadena|North America|Private|      Very High|                  2.0|                   692|   S|          968|\n+--------------------+----+------------+------+-----+--------------+---------+-------------+-------+---------------+---------------------+----------------------+----+-------------+\nonly showing top 5 rows\n",
					"output_type": "stream"
				}
			]
		},
		{
			"cell_type": "markdown",
			"source": "# Let's Store the results data frame",
			"metadata": {}
		},
		{
			"cell_type": "code",
			"source": "clean_rankings_df = spark.sql(\"\"\"SELECT \n    university,\n    coalesce(int(year),9999) as year,\n    rank_display,\n    coalesce(int(split(rank_display,'-')[0]),9999) as n_rank,\n    coalesce(float(score),-1) as score,\n    country, city, region, type,\n    research_output,\n    coalesce(float(student_faculty_ratio),-1) as student_faculty_ratio,\n    coalesce(int(regexp_replace(international_students,'[.,]','')),-1) as international_students,\n    size,\n    coalesce(int(regexp_replace(faculty_count,'[.,]','')),-1) as faculty_count\n    FROM university_ranking\"\"\")\n\nclean_rankings_df.show(5)",
			"metadata": {
				"trusted": true,
				"tags": []
			},
			"execution_count": 12,
			"outputs": [
				{
					"name": "stdout",
					"text": "+--------------------+----+------------+------+-----+--------------+---------+-------------+-------+---------------+---------------------+----------------------+----+-------------+\n|          university|year|rank_display|n_rank|score|       country|     city|       region|   type|research_output|student_faculty_ratio|international_students|size|faculty_count|\n+--------------------+----+------------+------+-----+--------------+---------+-------------+-------+---------------+---------------------+----------------------+----+-------------+\n|Massachusetts Ins...|2017|           1|     1|100.0| United States|Cambridge|North America|Private|      Very High|                  4.0|                  3730|   M|         3065|\n| Stanford University|2017|           2|     2| 98.7| United States| Stanford|North America|Private|      Very High|                  3.0|                  3879|   L|         4725|\n|  Harvard University|2017|           3|     3| 98.3| United States|Cambridge|North America|Private|      Very High|                  5.0|                  5877|   L|         4646|\n|University of Cam...|2017|           4|     4| 97.2|United Kingdom|Cambridge|       Europe| Public|      Very high|                  4.0|                  7925|   L|         5800|\n|California Instit...|2017|           5|     5| 96.9| United States| Pasadena|North America|Private|      Very High|                  2.0|                   692|   S|          968|\n+--------------------+----+------------+------+-----+--------------+---------+-------------+-------+---------------+---------------------+----------------------+----+-------------+\nonly showing top 5 rows\n",
					"output_type": "stream"
				}
			]
		},
		{
			"cell_type": "markdown",
			"source": "# Convert back to DynamicFrame",
			"metadata": {}
		},
		{
			"cell_type": "code",
			"source": "clean_dynamic_frame = DynamicFrame.fromDF(clean_rankings_df, glueContext, \"university_ranking_clean\")",
			"metadata": {
				"trusted": true,
				"tags": []
			},
			"execution_count": 19,
			"outputs": [
				{
					"name": "stdout",
					"text": "\n",
					"output_type": "stream"
				}
			]
		},
		{
			"cell_type": "markdown",
			"source": "# Store the clean data back to S3",
			"metadata": {}
		},
		{
			"cell_type": "code",
			"source": "university_ranking_destn = glueContext.write_dynamic_frame.from_options(\n    frame=clean_dynamic_frame,\n    connection_type=\"s3\",\n    format=\"csv\",\n    connection_options={\n        \"path\": \"s3://suan-workshop-datalake-robin-deletable-us-east-1/university_ranking/csv_clean/\",\n        \"partitionKeys\": [],\n    },\n    transformation_ctx=\"university_ranking_dest\",\n)",
			"metadata": {
				"trusted": true,
				"tags": []
			},
			"execution_count": 20,
			"outputs": [
				{
					"name": "stdout",
					"text": "\n",
					"output_type": "stream"
				}
			]
		},
		{
			"cell_type": "markdown",
			"source": "# Commit the job",
			"metadata": {}
		},
		{
			"cell_type": "code",
			"source": "job.commit()",
			"metadata": {
				"trusted": true,
				"tags": []
			},
			"execution_count": 21,
			"outputs": [
				{
					"name": "stdout",
					"text": "\n",
					"output_type": "stream"
				}
			]
		},
		{
			"cell_type": "markdown",
			"source": "#### Example: Visualize data with matplotlib\n",
			"metadata": {
				"editable": true,
				"trusted": true
			}
		},
		{
			"cell_type": "code",
			"source": "import matplotlib.pyplot as plt\n\n# Set X-axis and Y-axis values\nx = [5, 2, 8, 4, 9]\ny = [10, 4, 8, 5, 2]\n  \n# Create a bar chart \nplt.bar(x, y)\n  \n# Show the plot\n%matplot plt",
			"metadata": {
				"trusted": true,
				"editable": true
			},
			"execution_count": 7,
			"outputs": [
				{
					"name": "stdout",
					"text": "<BarContainer object of 5 artists>\n\n",
					"output_type": "stream"
				},
				{
					"output_type": "display_data",
					"data": {
						"image/png": "[encoded data removed]"
					},
					"metadata": {
						"image/png": {
							"width": 640,
							"height": 480
						}
					}
				}
			]
		},
		{
			"cell_type": "markdown",
			"source": "#### Example: Write the data in the DynamicFrame to a location in Amazon S3 and a table for it in the AWS Glue Data Catalog\n",
			"metadata": {
				"editable": true,
				"trusted": true
			}
		},
		{
			"cell_type": "code",
			"source": "s3output = glueContext.getSink(\n  path=\"s3://suan-workshop-datalake-robin-deletable-us-east-1/university_ranking/parquet_clean/\",\n  connection_type=\"s3\",\n  updateBehavior=\"UPDATE_IN_DATABASE\",\n  partitionKeys=[],\n  compression=\"snappy\",\n  enableUpdateCatalog=True,\n  transformation_ctx=\"s3output\",\n)\ns3output.setCatalogInfo(\n  catalogDatabase=\"suan_workshop_datalake_robin_ranking_universities_db\", catalogTableName=\"university_ranking_parquet_clean\"\n)\ns3output.setFormat(\"glueparquet\")\ns3output.writeFrame(clean_dynamic_frame)",
			"metadata": {
				"trusted": true,
				"editable": true
			},
			"execution_count": 24,
			"outputs": [
				{
					"name": "stdout",
					"text": "<awsglue.dynamicframe.DynamicFrame object at 0x7f15957130d0>\n",
					"output_type": "stream"
				}
			]
		},
		{
			"cell_type": "code",
			"source": "job.commit()",
			"metadata": {
				"trusted": true,
				"tags": []
			},
			"execution_count": 25,
			"outputs": [
				{
					"name": "stdout",
					"text": "\n",
					"output_type": "stream"
				}
			]
		},
		{
			"cell_type": "code",
			"source": "",
			"metadata": {},
			"execution_count": null,
			"outputs": []
		}
	]
}